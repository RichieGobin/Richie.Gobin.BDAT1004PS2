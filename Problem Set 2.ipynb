{
 "cells": [
  {
   "cell_type": "markdown",
   "id": "cc6d7402-4a66-41e4-ae11-af688485362a",
   "metadata": {},
   "source": [
    "<h3><font color='#33c1ff'>Question 1</font></h3>\n",
    "\n",
    "\n",
    "Consider the following Python module:\n",
    ">\n",
    "a = 0\n",
    ">\n",
    ">\n",
    "def b():\n",
    ">\n",
    ">\n",
    " global a\n",
    ">\n",
    ">\n",
    " a = c(a)\n",
    ">\n",
    ">\n",
    "def c(a):\n",
    ">\n",
    ">\n",
    " return a + 2\n",
    ">\n",
    "After importing the module into the interpreter, you execute:\n",
    ">\n",
    ">>> b()\n",
    ">\n",
    ">\n",
    ">>> b()\n",
    ">\n",
    ">\n",
    ">>> b()\n",
    ">\n",
    ">\n",
    ">>> a\n",
    ">\n",
    ">\n",
    "?\n",
    ">\n",
    "What value is displayed when the last expression (a) is evaluated? Explain your\n",
    "answer by indicating what happens in every executed statement.\n",
    ">"
   ]
  },
  {
   "cell_type": "code",
   "execution_count": 18,
   "id": "552b3064-c2f7-4559-9bed-eb910fdc4673",
   "metadata": {},
   "outputs": [],
   "source": [
    "a = 0\n",
    "def b():\n",
    " global a\n",
    " a = c(a)\n",
    "def c(a):\n",
    " return a + 2"
   ]
  },
  {
   "cell_type": "code",
   "execution_count": 42,
   "id": "534dd4bc-842c-46df-a509-08a63e77fb80",
   "metadata": {},
   "outputs": [
    {
     "data": {
      "text/plain": [
       "48"
      ]
     },
     "execution_count": 42,
     "metadata": {},
     "output_type": "execute_result"
    }
   ],
   "source": [
    ">>> b()\n",
    ">>> b()\n",
    ">>> b()\n",
    ">>> a"
   ]
  },
  {
   "cell_type": "markdown",
   "id": "5cbb81c7-cbf6-4ca5-b49a-6f99342e900e",
   "metadata": {},
   "source": [
    "In our execution code we execute 'b()' three times before we execute 'a'. First have to understand how the module works. 'a' is a variable that is dertermined to equal '0'. The funtion 'b()' makes the 'a' variable into a global variable and makes the new globale variable to equal to 'c(a)'. Now we define the function 'c(a)', and the funtion makes it so that the variable 'a' adds two to itself then it returns the answer, this is not the same as the global variable 'a' it is the original 'a' variable. \n",
    "\n",
    "Now to explain the executions. Each time 'b()' is called it will add two to the 'a' variable, So because it was called three times it would be as if you were multiplying two by three (2x3). Then finally when you execute (a) you end up with the amount, for intance, because we caleed b() three times we end up with 6. \n",
    "\n",
    "6 is the last value displayed when we call the expression 'a'. If you were to keep calling the expression the value would go up by 6 each time. "
   ]
  },
  {
   "cell_type": "markdown",
   "id": "96b43acf-5231-4cbe-9227-1dc373ef1881",
   "metadata": {},
   "source": [
    "<h3><font color='#33c1ff'>Question 2</font></h3>\n",
    "\n",
    "Function fileLength(), given to you, takes the name of a file as input and returns\r\n",
    "the length of the file:\r\n",
    ">>> fileLength('midterm.py')\r\n",
    "284\r\n",
    ">>> fileLength('idterm.py')\r\n",
    "Traceback (most recent call last):\r\n",
    "File \"<pyshell#34>\", line 1, in <module>\r\n",
    " fileLength('idterm.py')\r\n",
    "File \"/Users/me/midterm.py\", line 3, in fileLength\r\n",
    " infile = open(filename)\r\n",
    "FileNotFoundError: [Errno 2] No such file or directory:\r\n",
    "'idterm.py'\r\n",
    "As shown above, if the file cannot be found by the interpreter or if it cannot be read\r\n",
    "as a text file, an exception will be raised. Modify function fileLength() so that a\r\n",
    "friendly message is printed instead:\r\n",
    ">>> fileLength('midterm.py')\r\n",
    "358\r\n",
    ">>> fileLength('idterm.py')\r\n",
    "File idterm.py not found."
   ]
  },
  {
   "cell_type": "code",
   "execution_count": 81,
   "id": "daef7b75-da0f-4ae3-b569-5920e710ac77",
   "metadata": {},
   "outputs": [],
   "source": [
    "def fileLength(filename):\n",
    "    try:\n",
    "        infile = open(filename)\n",
    "        length = infile.readline()\n",
    "        infile.close\n",
    "    except FileNotFoundError:\n",
    "        print(\"File \" + filename + \" not found.\")"
   ]
  },
  {
   "cell_type": "code",
   "execution_count": 83,
   "id": "ed1246a7-66a5-409e-b7f5-fbeced91e2c3",
   "metadata": {},
   "outputs": [
    {
     "name": "stdout",
     "output_type": "stream",
     "text": [
      "File midterm.py not found.\n",
      "File idterm.py not found.\n"
     ]
    }
   ],
   "source": [
    ">>> fileLength('midterm.py')\n",
    ">>> fileLength('idterm.py')"
   ]
  },
  {
   "cell_type": "markdown",
   "id": "d6850067-9a8b-4f96-9f72-7366c8a1c553",
   "metadata": {},
   "source": [
    "<h3><font color='#33c1ff'>Question 3</font></h3>\n",
    "Write a class named Marsupial that can be used as shown below:\r\n",
    ">>> m = Marsupial()\r\n",
    ">>> m.put_in_pouch('doll')\r\n",
    ">>> m.put_in_pouch('firetruck')\r\n",
    ">>> m.put_in_pouch('kitten')\r\n",
    ">>> m.pouch_contents()\r\n",
    "['doll', 'firetruck', 'kiten']\n",
    "tten']"
   ]
  },
  {
   "cell_type": "code",
   "execution_count": 102,
   "id": "5cd1ab61-64ea-4cad-82dd-bc644d7baa9a",
   "metadata": {},
   "outputs": [],
   "source": [
    "class Marsupial:\n",
    "    def __init__(self):\n",
    "        self.pouch =[]\n",
    "    def put_in_pouch(self, item):\n",
    "        self.pouch.append(item)\n",
    "    def pouch_contents(self):\n",
    "        return self.pouch"
   ]
  },
  {
   "cell_type": "code",
   "execution_count": 104,
   "id": "03d9fc94-e1c7-4f27-9e8b-7598d791dc53",
   "metadata": {},
   "outputs": [
    {
     "data": {
      "text/plain": [
       "['doll', 'firetruck', 'kitten']"
      ]
     },
     "execution_count": 104,
     "metadata": {},
     "output_type": "execute_result"
    }
   ],
   "source": [
    ">>> m = Marsupial()\n",
    ">>> m.put_in_pouch('doll')\n",
    ">>> m.put_in_pouch('firetruck')\n",
    ">>> m.put_in_pouch('kitten')\n",
    ">>> m.pouch_contents()"
   ]
  },
  {
   "cell_type": "markdown",
   "id": "863e83f6-af31-4b85-94ce-1726aee84229",
   "metadata": {},
   "source": [
    "<h3><font color='#33c1ff'>Question 3: Part 2</font></h3>\n",
    "\n",
    "Now write a class named Kangaroo as a subclass of Marsupial that inherits all the\r\n",
    "attributes of Marsupial and also:\r\n",
    "a. extends the Marsupial __init__ constructor to take, as input, the\r\n",
    "coordinates x and y of the Kangaroo object,\r\n",
    "b. supports method jump that takes number values dx and dy as input and\r\n",
    "moves the kangaroo by dx units along the x-axis and by dy units along the yaxis, and\r\n",
    "c. overloads the __str__ operator so it behaves as shown below"
   ]
  },
  {
   "cell_type": "code",
   "execution_count": 176,
   "id": "0ce316f1-cdae-4344-9300-c5956e08af85",
   "metadata": {},
   "outputs": [],
   "source": [
    "class Kangaroo(Marsupial):\n",
    "    def __init__(self,x,y):\n",
    "        self.pouch = []\n",
    "        self.x = x\n",
    "        self.y = y\n",
    "    def jump (self, xx, yy):\n",
    "        self.x += xx\n",
    "        self.y += yy\n",
    "    def __str__(self):\n",
    "        return \"I am a Kangaroo located at coordinates (\" + str(self.x) + \", \" + str(self.y) + \")\""
   ]
  },
  {
   "cell_type": "code",
   "execution_count": 178,
   "id": "b86512cf-a421-40cf-8e0b-946d4741b007",
   "metadata": {},
   "outputs": [
    {
     "name": "stdout",
     "output_type": "stream",
     "text": [
      "I am a Kangaroo located at coordinates (0, 0)\n"
     ]
    }
   ],
   "source": [
    ">>> k = Kangaroo(0,0)\n",
    ">>> print(k)"
   ]
  },
  {
   "cell_type": "code",
   "execution_count": 180,
   "id": "25eca501-c7c9-4a1d-9c7d-c4962ebec9cc",
   "metadata": {},
   "outputs": [
    {
     "data": {
      "text/plain": [
       "['doll', 'firetruck', 'kitten']"
      ]
     },
     "execution_count": 180,
     "metadata": {},
     "output_type": "execute_result"
    }
   ],
   "source": [
    ">>> k.put_in_pouch('doll')\n",
    ">>> k.put_in_pouch('firetruck')\n",
    ">>> k.put_in_pouch('kitten')\n",
    ">>> k.pouch_contents()"
   ]
  },
  {
   "cell_type": "code",
   "execution_count": 182,
   "id": "b0e9373b-268b-4881-b71a-6bbdc540a402",
   "metadata": {},
   "outputs": [
    {
     "name": "stdout",
     "output_type": "stream",
     "text": [
      "I am a Kangaroo located at coordinates (3, 0)\n"
     ]
    }
   ],
   "source": [
    ">>> k.jump(1,0)\n",
    ">>> k.jump(1,0)\n",
    ">>> k.jump(1,0)\n",
    ">>> print(k)"
   ]
  },
  {
   "cell_type": "markdown",
   "id": "c55ca474-9d47-425b-956e-cd9f643b6a98",
   "metadata": {},
   "source": [
    "<h3><font color='#33c1ff'>Question 4</font></h3>\n",
    "\n",
    "Write function collatz() that takes a positive integer x as input and prints the\n",
    "Collatz sequence starting at x. A Collatz sequence is obtained by repeatedly applying\n",
    "this rule to the previous number x in the sequence:\n",
    "x = {\n",
    "𝑥/2 𝑖𝑓 𝑥 𝑖𝑠 𝑒𝑣𝑒𝑛\n",
    "3𝑥 + 1 𝑖𝑓 𝑥 𝑖𝑠 𝑜𝑑𝑑\n",
    "Your function should stop when the sequence gets to number 1. Your\n",
    "implementation must be recursive, without any loops."
   ]
  },
  {
   "cell_type": "code",
   "execution_count": 230,
   "id": "881ac3bc-bc8e-4901-b755-9a6aa5eb3855",
   "metadata": {},
   "outputs": [],
   "source": [
    "def collatz(x):\n",
    "    print(x)\n",
    "    if x == 1:\n",
    "        return\n",
    "    elif x % 2 == 0:\n",
    "        collatz(x // 2)\n",
    "    else:\n",
    "        collatz(3 * x + 1)"
   ]
  },
  {
   "cell_type": "code",
   "execution_count": 192,
   "id": "e8f00b99-91dc-4314-99e6-33f5ca93836b",
   "metadata": {},
   "outputs": [
    {
     "name": "stdout",
     "output_type": "stream",
     "text": [
      "1\n"
     ]
    }
   ],
   "source": [
    ">>> collatz(1)"
   ]
  },
  {
   "cell_type": "code",
   "execution_count": 232,
   "id": "0b15ad0a-92ca-4e46-82eb-f301c95e2b8f",
   "metadata": {},
   "outputs": [
    {
     "name": "stdout",
     "output_type": "stream",
     "text": [
      "10\n",
      "5\n",
      "16\n",
      "8\n",
      "4\n",
      "2\n",
      "1\n"
     ]
    }
   ],
   "source": [
    ">>> collatz(10)"
   ]
  },
  {
   "cell_type": "markdown",
   "id": "d94a602c-86fb-4bba-9cab-7e9a906f610d",
   "metadata": {},
   "source": [
    "<h3><font color='#33c1ff'>Question 5</font></h3>\n",
    "\n",
    "Write a recursive method binary() that takes a non-negative\n",
    "integer n and prints the binary representation of integer n."
   ]
  },
  {
   "cell_type": "code",
   "execution_count": 224,
   "id": "d712fa85-2d32-4c18-ac41-b42544a46b29",
   "metadata": {},
   "outputs": [],
   "source": [
    "def binary(n):\n",
    "    if n < 2:\n",
    "        print(n)\n",
    "    else:\n",
    "        binary(n // 2)\n",
    "        print(n % 2)"
   ]
  },
  {
   "cell_type": "code",
   "execution_count": 214,
   "id": "ef9c66a0-0d62-420f-aad3-bc3fff974440",
   "metadata": {},
   "outputs": [
    {
     "name": "stdout",
     "output_type": "stream",
     "text": [
      "0\n"
     ]
    }
   ],
   "source": [
    "binary(0)"
   ]
  },
  {
   "cell_type": "code",
   "execution_count": 218,
   "id": "a94ad8ab-cb75-48f8-882a-9296065918ac",
   "metadata": {},
   "outputs": [
    {
     "name": "stdout",
     "output_type": "stream",
     "text": [
      "1\n"
     ]
    }
   ],
   "source": [
    "binary(1)"
   ]
  },
  {
   "cell_type": "code",
   "execution_count": 226,
   "id": "7747e879-83e1-4920-94e2-9f4ccb2d6aed",
   "metadata": {},
   "outputs": [
    {
     "name": "stdout",
     "output_type": "stream",
     "text": [
      "1\n",
      "1\n"
     ]
    }
   ],
   "source": [
    "binary(3)"
   ]
  },
  {
   "cell_type": "code",
   "execution_count": 228,
   "id": "c450d4c8-4c56-4f1a-ab9e-0e93a84858a5",
   "metadata": {},
   "outputs": [
    {
     "name": "stdout",
     "output_type": "stream",
     "text": [
      "1\n",
      "0\n",
      "0\n",
      "1\n"
     ]
    }
   ],
   "source": [
    "binary(9)"
   ]
  },
  {
   "cell_type": "markdown",
   "id": "55e11898-1d2e-4a59-851b-97f731f7000f",
   "metadata": {},
   "source": [
    "<h3><font color='#33c1ff'>Question 6</font></h3>\n",
    "\n",
    "Implement a class named HeadingParser that can be used to parse an HTML document, and retrieve and print all the headings in the document. You should implement your class as a subclass of HTMLParser, defined in Standard Library module html.parser. When fed a string containing HTML code, your class should print the headings, one per line and in the order in which they appear in the document. Each heading should be indented as follows: an h1 heading should have indentation 0, and h2 heading should have indentation 1, etc. Test your\n",
    "implementation using w3c.html"
   ]
  },
  {
   "cell_type": "code",
   "execution_count": 52,
   "id": "48c60fa9-2f54-40c1-8993-2e85f41f3a4e",
   "metadata": {},
   "outputs": [],
   "source": [
    "from html.parser import HTMLParser\n",
    "\n",
    "class HeadingParser(HTMLParser): \n",
    "    def __init__(self):\n",
    "        HTMLParser.__init__(self)\n",
    "        self.indent = None\n",
    "        self.links = []\n",
    "    def handle_starttag(self, tag, attrs):\n",
    "        if tag in ['h1', 'h2', 'h3', 'h4', 'h5', 'h6']:\n",
    "            self.indent = int(tag[1]) - 1\n",
    "        elif tag == 'a':\n",
    "            for attr in attrs:\n",
    "                if attr[0] == 'href':\n",
    "                    self.links.append(attr[1])\n",
    "    def handle_data(self, data):\n",
    "        if self.indent is not None:\n",
    "            print(' ' * self.indent + data.strip())\n",
    "    def handle_endtag(self,tag):\n",
    "        if tag in ['h1', 'h2', 'h3', 'h4', 'h5', 'h6']:\n",
    "            self.indent = None"
   ]
  },
  {
   "cell_type": "code",
   "execution_count": 54,
   "id": "c6819a30-d6fc-4da3-934a-696ceb2bb16c",
   "metadata": {},
   "outputs": [
    {
     "name": "stdout",
     "output_type": "stream",
     "text": [
      "W3C Mission\n",
      " Principles\n"
     ]
    }
   ],
   "source": [
    ">>> infile = open('w3c.html')\n",
    ">>> content = infile.read()\n",
    ">>> infile.close()\n",
    ">>> hp = HeadingParser()\n",
    ">>> hp.feed(content)"
   ]
  },
  {
   "cell_type": "markdown",
   "id": "cb6b334c-aa98-46eb-ada6-c8fd7db668b7",
   "metadata": {},
   "source": [
    "<h3><font color='#33c1ff'>Question 7</font></h3>\n",
    "\n",
    "Implement recursive function webdir() that takes as input: a URL (as a string) and\n",
    "non-negative integers depth and indent. Your function should visit every web\n",
    "page reachable from the starting URL web page in depth clicks or less, and print\n",
    "each web page's URL. As shown below, indentation, specified by indent, should\n",
    "be used to indicate the depth of a URL."
   ]
  },
  {
   "cell_type": "code",
   "execution_count": 106,
   "id": "f7783768-db56-46ed-8340-969fa0e3bcac",
   "metadata": {},
   "outputs": [],
   "source": [
    "import urllib.request\n",
    "from urllib.parse import urljoin\n",
    "from html.parser import HTMLParser\n",
    "\n",
    "class LinkParser(HTMLParser):\n",
    "    def __init__(self):\n",
    "        HTMLParser.__init__(self)\n",
    "        self.links = []\n",
    "    def handle_starttag(self, tag, attrs):\n",
    "        if tag == 'a':\n",
    "            for attr, value in attrs:\n",
    "                if attr == 'href':\n",
    "                    self.links.append(value)\n",
    "    def link_get(self):\n",
    "        return self.links\n",
    "def webdir(url, depth, indent):\n",
    "    if depth < 0:\n",
    "        return\n",
    "    print(' ' * indent + url)\n",
    "    response = urllib.request.urlopen(url)\n",
    "    content_type = response.info().get_content_type()\n",
    "    if content == 'text/html':\n",
    "        html = response.read().decode('utf-8')\n",
    "        parser = LinkParser()\n",
    "        parser.feed(html)\n",
    "        links = parser.link_get()\n",
    "        for link in links:\n",
    "            fullurl = urljoin(url, link)\n",
    "            webdir(fullurl, depth -1, indent + 4)"
   ]
  },
  {
   "cell_type": "code",
   "execution_count": 112,
   "id": "2aa790de-513e-4fbc-baca-c09b3314d99b",
   "metadata": {},
   "outputs": [],
   "source": [
    ">>> webdir('http://reed.cs.depaul.edu/lperkovic/csc242/test1.html', 2, 0)\n",
    "\n",
    "# there's an error code 404 where the html/webpage can't be found and I'm not sure how to fix it."
   ]
  },
  {
   "cell_type": "markdown",
   "id": "9982ae2f-91dc-4f1a-851f-0896c4f641bf",
   "metadata": {},
   "source": [
    "<h3><font color='#33c1ff'>Question 8</font></h3>\n",
    "\n",
    "Write SQL queries on the below database table that return:\r\n",
    "a) All the temperature data.\r\n",
    "b) All the cities, but without repetition.\r\n",
    "c) All the records for India.\r\n",
    "d) All the Fall reco\n",
    "rds.e) The city, country, and season for which the average rainfall is between 200\r\n",
    "and 400 millimeters.\r\n",
    "f) The city and country for which the average Fall temperature is above 20\r\n",
    "degrees, in increasing temperature order.\r\n",
    "g) The total annual rainfall for Cairo.\r\n",
    "h) The total rainfall for each season."
   ]
  },
  {
   "cell_type": "markdown",
   "id": "49bb99d6-2402-4668-a6f9-fad01a3a3e10",
   "metadata": {},
   "source": [
    "# For this Question I imagined the Table in the Problem Set Document was named WeatherTable"
   ]
  },
  {
   "cell_type": "code",
   "execution_count": null,
   "id": "3277e4ed-2db0-4c67-b2c4-ac65c629413a",
   "metadata": {},
   "outputs": [],
   "source": [
    "# a) All the temperature data.\n",
    "SELECT Temperature\n",
    "FROM WeatherTable"
   ]
  },
  {
   "cell_type": "code",
   "execution_count": null,
   "id": "42ffdc82-210a-442a-b9f7-893794df229e",
   "metadata": {},
   "outputs": [],
   "source": [
    "# b) All the cities, but without repetition.\n",
    "SELECT DISTINCT City\n",
    "FROM WeatherTable"
   ]
  },
  {
   "cell_type": "code",
   "execution_count": null,
   "id": "9e1280e9-b8b1-4644-9561-9580b33e2bb2",
   "metadata": {},
   "outputs": [],
   "source": [
    "# c) All records for India.\n",
    "SELECT * \n",
    "FROM WeatherTable\n",
    "WHERE Country = 'India'"
   ]
  },
  {
   "cell_type": "code",
   "execution_count": null,
   "id": "002ff3d1-8e1e-437a-8fd9-2dbbfc12a33c",
   "metadata": {},
   "outputs": [],
   "source": [
    "# d) All the Fall Records.\n",
    "SELECT *\n",
    "FROM WeatherTable\n",
    "Where Season = 'Fall'"
   ]
  },
  {
   "cell_type": "code",
   "execution_count": null,
   "id": "07ebe6c1-66c5-4dab-ad82-ab49cf87ee28",
   "metadata": {},
   "outputs": [],
   "source": [
    "# e) The city. county, and season for which the average rainfall is between 200 and 400 millimeters.\n",
    "SELECT City, County, Season\n",
    "FROM WeatherTable\n",
    "GROUP BY City, County, Season\n",
    "WHERE Rainfall BETWEEN 200 AND 400"
   ]
  },
  {
   "cell_type": "code",
   "execution_count": null,
   "id": "95312f4f-0c90-4538-8153-87990b495a61",
   "metadata": {},
   "outputs": [],
   "source": [
    "# f) The city and country for which the average Fall temperature us above 20 degrees, in increasing temperatue order.\n",
    "SELECT City, County\n",
    "FROM WeatherTable\n",
    "WHERE Season = 'Fall'\n",
    "GROUP BY City, Country\n",
    "WHERE Temperature > 20\n",
    "ORDER BY FREQ ASC"
   ]
  },
  {
   "cell_type": "code",
   "execution_count": null,
   "id": "a2105454-2fbd-4501-87b1-2a7d4ecf167b",
   "metadata": {},
   "outputs": [],
   "source": [
    "# g) The total annual rainfall for Cairo.\n",
    "FROM WeatherTable\n",
    "WHERE City = 'Cairo'\n",
    "SELECT SUM(Rainfall)"
   ]
  },
  {
   "cell_type": "code",
   "execution_count": null,
   "id": "59e9d234-a34e-45b7-a388-7fcb14e2f846",
   "metadata": {},
   "outputs": [],
   "source": [
    "# h) The total rainfall for each season.\n",
    "FROM WeatherTable\n",
    "SELECT Season SUM(Rainfall)"
   ]
  },
  {
   "cell_type": "markdown",
   "id": "8851974f-e4e8-4493-991d-39b28a43c9c1",
   "metadata": {},
   "source": [
    "<h3><font color='#33c1ff'>Question 9</font></h3>\n",
    "\n",
    "Suppose list words is defined as follows:\r",
    " words = ['The', 'quick', 'brown', 'fox', 'jumps', 'over',\r\n",
    "'the', 'lazy', 'dog']\r\n",
    "Write list comprehension expressions that use list words and generate the following\r\n",
    "lists:\r\n",
    "a) ['THE', 'QUICK', 'BROWN', 'FOX', 'JUMPS', 'OVER', 'THE',\r\n",
    "'LAZY', 'DOG']\r\n",
    "b) ['the', 'quick', 'brown', 'fox', 'jumps', 'over', 'the',\r\n",
    "'lazy', 'dog']\r\n",
    "c) [3, 5, 5, 3, 5, 4, 3, 4, 3] (the list of lengths of words in list\r\n",
    "words).\r\n",
    "d) [['THE', 'the', 3], ['QUICK', 'quick', 5], ['BROWN',\r\n",
    "'brown', 5], ['FOX', 'fox', 3], ['JUMPS', 'jumps', 5],\r\n",
    "['OVER', 'over', 4], ['THE', 'the', 3], ['LAZY', 'lazy',\r\n",
    "4], ['DOG', 'dog', 3]] (the list containing a list for every word of list\r\n",
    "words, where each list contains the word in uppercase and lowercase and the\r\n",
    "length of the word.)\r\n",
    "e) ['The', 'quick', 'brown', 'fox', 'jumps', 'over', 'the',\r\n",
    "'lazy', 'dog'] (the list of words in list words containing 4 or more\r\n",
    "characters.)"
   ]
  },
  {
   "cell_type": "code",
   "execution_count": 124,
   "id": "48304c60-6a16-4f3d-a039-20d5c0380da1",
   "metadata": {},
   "outputs": [
    {
     "name": "stdout",
     "output_type": "stream",
     "text": [
      "['THE', 'QUICK', 'BROWN', 'FOX', 'JUMPS', 'OVER', 'THE', 'LAZY', 'DOG']\n"
     ]
    }
   ],
   "source": [
    "words = ['The', 'quick', 'brown', 'fox', 'jumps', 'over', 'the', 'lazy', 'dog']\n",
    "\n",
    "# a) Uppercase\n",
    "uppercase = [word.upper() for word in words]\n",
    "print(uppercase)"
   ]
  },
  {
   "cell_type": "code",
   "execution_count": 126,
   "id": "ae52d708-a02d-40b6-91a9-e1d1c8881482",
   "metadata": {},
   "outputs": [
    {
     "name": "stdout",
     "output_type": "stream",
     "text": [
      "['the', 'quick', 'brown', 'fox', 'jumps', 'over', 'the', 'lazy', 'dog']\n"
     ]
    }
   ],
   "source": [
    "# b) Lowercase\n",
    "lowercase = [word.lower() for word in words]\n",
    "print(lowercase)"
   ]
  },
  {
   "cell_type": "code",
   "execution_count": 132,
   "id": "d3279889-a65b-4fc4-a685-bc00c87879bf",
   "metadata": {},
   "outputs": [
    {
     "name": "stdout",
     "output_type": "stream",
     "text": [
      "[3, 5, 5, 3, 5, 4, 3, 4, 3]\n"
     ]
    }
   ],
   "source": [
    "# c) Length of each word\n",
    "length = [len(word) for word in words]\n",
    "print(length)"
   ]
  },
  {
   "cell_type": "code",
   "execution_count": 138,
   "id": "8819e7e6-b904-4eff-80bf-586340200fd4",
   "metadata": {},
   "outputs": [
    {
     "name": "stdout",
     "output_type": "stream",
     "text": [
      "[['THE', 'the', 3], ['QUICK', 'quick', 5], ['BROWN', 'brown', 5], ['FOX', 'fox', 3], ['JUMPS', 'jumps', 5], ['OVER', 'over', 4], ['THE', 'the', 3], ['LAZY', 'lazy', 4], ['DOG', 'dog', 3]]\n"
     ]
    }
   ],
   "source": [
    "# d) Uppercase, Lowercase, and Length\n",
    "All = [[word.upper(), word.lower(), len(word)] for word in words]\n",
    "print(All)"
   ]
  },
  {
   "cell_type": "code",
   "execution_count": 140,
   "id": "2cce1926-9b93-40e2-b105-a77a905a90cf",
   "metadata": {},
   "outputs": [
    {
     "name": "stdout",
     "output_type": "stream",
     "text": [
      "['quick', 'brown', 'jumps', 'over', 'lazy']\n"
     ]
    }
   ],
   "source": [
    "# e) Words in the list containg 4 or mote characters\n",
    "bigwords = [word for word in words if len(word) >= 4]\n",
    "print(bigwords)"
   ]
  }
 ],
 "metadata": {
  "kernelspec": {
   "display_name": "Python 3 (ipykernel)",
   "language": "python",
   "name": "python3"
  },
  "language_info": {
   "codemirror_mode": {
    "name": "ipython",
    "version": 3
   },
   "file_extension": ".py",
   "mimetype": "text/x-python",
   "name": "python",
   "nbconvert_exporter": "python",
   "pygments_lexer": "ipython3",
   "version": "3.12.4"
  }
 },
 "nbformat": 4,
 "nbformat_minor": 5
}
